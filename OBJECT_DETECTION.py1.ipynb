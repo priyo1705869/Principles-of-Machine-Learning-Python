{
 "cells": [
  {
   "cell_type": "code",
   "execution_count": null,
   "metadata": {},
   "outputs": [],
   "source": [
    "import cv2\n",
    "cap=cv2.VideoCapture(0)"
   ]
  },
  {
   "cell_type": "code",
   "execution_count": null,
   "metadata": {},
   "outputs": [],
   "source": [
    "for image_path in TEST_IMAGE_PATHS:\n",
    "    image=Image.open(image_path)\n",
    "    # the array based representation of the image will be used later to prepare the \n",
    "    #result image with boxes and labels on it.\n",
    "    image_np=load_image_into_numpy_array(image)"
   ]
  },
  {
   "cell_type": "code",
   "execution_count": null,
   "metadata": {},
   "outputs": [],
   "source": [
    "while True:\n",
    "    ret,image_np=cap.read()"
   ]
  },
  {
   "cell_type": "code",
   "execution_count": null,
   "metadata": {},
   "outputs": [],
   "source": [
    "plt.figure(figsize=IMAGE_SIZE)\n",
    "plt.imshow(image_np)\n",
    "plt.show()"
   ]
  },
  {
   "cell_type": "code",
   "execution_count": null,
   "metadata": {},
   "outputs": [],
   "source": [
    "cv2.imshow('object detection',cv2.resize(image_np,(800,600)))\n",
    "if cv2.destroyAllWindows()\n",
    "break"
   ]
  },
  {
   "cell_type": "code",
   "execution_count": null,
   "metadata": {},
   "outputs": [],
   "source": [
    "import numpy as np\n",
    "import os\n",
    "import six.moves.urllib as urllib\n",
    "import sys\n",
    "import tarfile\n",
    "import tensorflow as tf\n",
    "import zipfile\n",
    "from collections import defaultdict\n",
    "from io import StringIO\n",
    "from matplotlib import pyplot as plt\n",
    "from PIL import Image\n",
    "import cv2\n",
    "cap=cv2.VideoCapture(1)\n",
    "#This is needed since the notebook is stored in the object_detection folder.\n",
    "sys.path.append(\"..\")\n",
    "# ## Object detection imports\n",
    "# Here are the imports from the object detection module."
   ]
  },
  {
   "cell_type": "code",
   "execution_count": null,
   "metadata": {},
   "outputs": [],
   "source": [
    "from utils import label_map_util\n",
    "from utils import visualization_utils as vis_util"
   ]
  },
  {
   "cell_type": "code",
   "execution_count": null,
   "metadata": {},
   "outputs": [],
   "source": [
    "# # Model preparation\n",
    "# ## Variables\n",
    "#\n",
    "#Any model exported using the 'export_interference_graph.py' tool can be loaded here simply by changing 'PATH_TO_CKPT' to point to a new .pb file.\n",
    "#\n",
    "#By default we use an \"SSD with Mobilenet\" model here.See the [detection model zoo](https://github.com/tensorflow/models/blob/master/research/object_detection/g3doc/detection_model_zoo.md)for a list of other models that can be run out-of-the-box with varying speeds and accuracies."
   ]
  },
  {
   "cell_type": "code",
   "execution_count": null,
   "metadata": {},
   "outputs": [],
   "source": [
    "#what model to download.\n",
    "MODEL_NAME='ssd_moilenet_v1_coco_11_06_2017'\n",
    "MODEL_FILE=MODEL_NAME+'.tar.gz'\n",
    "DOWNLOAD_BASE='https://github.com/tensorflow/models/tree/master/research/object_detection/'\n",
    "#Path to frozen detection graph.This is actual model that is used for object detection.\n",
    "PATH_TO_CKPT=MODEL_NAME+'/frozen_inference_graph.pb'\n",
    "#List of the strings that is used to correct label for each box.\n",
    "PATH_TO_LABELS=os.path.join('data','mscoco_label_map.pbtxt')\n",
    "NUM_CLASSES=90\n",
    "\n",
    "# ## Download Model"
   ]
  },
  {
   "cell_type": "code",
   "execution_count": null,
   "metadata": {},
   "outputs": [],
   "source": [
    "opener=urllib.request.URLopener()\n",
    "opener.retrieve(DOWNLOAD_BASE+MODEL_FILE,MODEL_FILE)\n",
    "tar_file=tarfile.open(MODEL_FILE)\n",
    "for file in tar_file.getmembers():\n",
    "    file_name=os.path.basename(file_name)\n",
    "    if 'frozen_inference_graph.pb' in file_name:\n",
    "        tar_file.extract(file,os.getcwd())\n",
    "        \n",
    "        \n",
    " # ## Load a (frozen) Tensorflow model into memory.       "
   ]
  },
  {
   "cell_type": "code",
   "execution_count": null,
   "metadata": {},
   "outputs": [],
   "source": [
    "detection_graph=tf.Graph()\n",
    "with detection.as_default():\n",
    "    od_graph.as_default=tf.GraphDef()\n",
    "    with tf.gfiloe.GFile(PATH_TO_CKPT,'rb') as fid:\n",
    "        serialized_graph=fid.read()\n",
    "        od_graph_def.ParseFromString(serialized_graph)\n",
    "        tf.import_graph_def(od_graph_def,name='')\n",
    "# ##Loading label map\n",
    "#Label maps map indices to category names,so that when convolution network predicts'5',we know that this corresponds to 'airplane'.Here we use internal utility function,but anything that return a dictionary mapping integers"
   ]
  },
  {
   "cell_type": "code",
   "execution_count": null,
   "metadata": {},
   "outputs": [],
   "source": [
    "label_map=label_map_util.load_labelmap(PATH_TO_LABELS)\n",
    "categories=label_map_util.converts_label_map_to_catagories(label_map,max_num_classes=NUM_CLASSES,use_display_name=True)\n",
    "category_index=label_map_util.create_category_index(categories)\n",
    "\n",
    "# ##Helper code"
   ]
  },
  {
   "cell_type": "code",
   "execution_count": null,
   "metadata": {},
   "outputs": [],
   "source": [
    "def load_image_into_numpy_array(image):\n",
    "    (im_width,im_height)=image.size\n",
    "    return np.array(image.getdata()).reshape(\n",
    "    (im_height,im_width,3)).astype(np.uint8)\n",
    "# # Detection\n",
    "# For the sake of simplicity we will use only 2 images:\n",
    "# image1.jpg\n",
    "# image2.jpg\n",
    "# If you want to test the code with your images,just add path to the imagesto the TEST_IMAGE_PATHS.\n",
    "PATH_TO_TEST_IMAGE_DIR='test_images'\n",
    "TEST_IMAGE_PATHS=[os.path.join(PATH_TO_TEST_IMAGE_DIR,'images.jpg'.format(i)) for i in range(1,3)]\n",
    "\n",
    "#Size,in inchies,of the output images.\n",
    "IMAGE_SIZE=(12,8)"
   ]
  },
  {
   "cell_type": "code",
   "execution_count": null,
   "metadata": {},
   "outputs": [],
   "source": [
    "with detection_graph.as_default():\n",
    "    with tf.Session(graph=detection_graph) as sess:\n",
    "        while True:\n",
    "            ret,image_np=cap.read()\n",
    "            #Expand dimensions since the model images to have shape:[1,None,None,3]\n",
    "            image_np_expanded=np.expand_dims(image_np,axis=0)\n",
    "            image_tensor=detection_graph.get_tensor_by_name('image_tensor:0')\n",
    "            #Each box represents a part of the image where a particular object was detected.\n",
    "            boxes=detection_graph.get_tensor_by_name('detection_scores:0')\n",
    "             # Each score represent how level of confidence for each of the objects.\n",
    "      # Score is shown on the result image, together with the class label.\n",
    "            scores = detection_graph.get_tensor_by_name('detection_scores:0')\n",
    "            classes = detection_graph.get_tensor_by_name('detection_classes:0')\n",
    "            num_detections = detection_graph.get_tensor_by_name('num_detections:0')\n",
    "      # Actual detection.\n",
    "            (boxes, scores, classes, num_detections) = sess.run(\n",
    "            [boxes, scores, classes, num_detections],\n",
    "            feed_dict={image_tensor: image_np_expanded})\n",
    "      # Visualization of the results of a detection.\n",
    "            vis_util.visualize_boxes_and_labels_on_image_array(\n",
    "            image_np,\n",
    "            np.squeeze(boxes),\n",
    "            np.squeeze(classes).astype(np.int32),\n",
    "            np.squeeze(scores),\n",
    "            category_index,\n",
    "            use_normalized_coordinates=True,\n",
    "            line_thickness=8)\n",
    "\n",
    "            cv2.imshow('object detection', cv2.resize(image_np, (800,600)))\n",
    "            if cv2.waitKey(25) & 0xFF == ord('q'):\n",
    "                cv2.destroyAllWindows()\n",
    "            break"
   ]
  },
  {
   "cell_type": "code",
   "execution_count": null,
   "metadata": {},
   "outputs": [],
   "source": []
  },
  {
   "cell_type": "code",
   "execution_count": null,
   "metadata": {},
   "outputs": [],
   "source": []
  },
  {
   "cell_type": "code",
   "execution_count": null,
   "metadata": {},
   "outputs": [],
   "source": []
  }
 ],
 "metadata": {
  "kernelspec": {
   "display_name": "Python 3",
   "language": "python",
   "name": "python3"
  },
  "language_info": {
   "codemirror_mode": {
    "name": "ipython",
    "version": 3
   },
   "file_extension": ".py",
   "mimetype": "text/x-python",
   "name": "python",
   "nbconvert_exporter": "python",
   "pygments_lexer": "ipython3",
   "version": "3.7.3"
  }
 },
 "nbformat": 4,
 "nbformat_minor": 2
}
